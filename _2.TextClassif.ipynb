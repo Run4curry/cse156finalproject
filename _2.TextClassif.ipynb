{
 "cells": [
  {
   "cell_type": "markdown",
   "metadata": {},
   "source": [
    "# Spring 2019 Statistical NLP, UCSD\n",
    "Programming Assignment 2: Text Classification <br>\n"
   ]
  },
  {
   "cell_type": "code",
   "execution_count": 58,
   "metadata": {
    "collapsed": true
   },
   "outputs": [],
   "source": [
    "import sentiment as sentimentinterface\n",
    "import classify \n",
    "import timeit\n",
    "import numpy as np\n",
    "\n",
    "import matplotlib.pyplot as plt\n",
    "plt.switch_backend('agg')\n",
    "import matplotlib.ticker as ticker\n",
    "%matplotlib inline"
   ]
  },
  {
   "cell_type": "markdown",
   "metadata": {},
   "source": [
    "## 1. Inspect the Feature representation"
   ]
  },
  {
   "cell_type": "code",
   "execution_count": 59,
   "metadata": {},
   "outputs": [
    {
     "name": "stdout",
     "output_type": "stream",
     "text": [
      "Reading data\n",
      "-- train data\n",
      "sentiment/train.tsv\n",
      "4582\n",
      "-- dev data\n",
      "sentiment/dev.tsv\n",
      "458\n",
      "-- transforming data and labels\n",
      "(4582, 15000)\n"
     ]
    }
   ],
   "source": [
    "print(\"Reading data\")\n",
    "tarfname = \"data/sentiment.tar.gz\"\n",
    "sentiment = sentimentinterface.read_files(tarfname)\n",
    "    "
   ]
  },
  {
   "cell_type": "code",
   "execution_count": 32,
   "metadata": {},
   "outputs": [
    {
     "name": "stdout",
     "output_type": "stream",
     "text": [
      "Went last night for the first time with my boyfriend. Let me start off by saying I'm vegetarian, but my boyfriend is not. I ordered the chicken v mushroom, it\n",
      "~~~~~~~~~~~~~~~~~~~~~~~~~~~~~~~~~~~~~~~~~~~~~~~~~~\n",
      "['with my' 'with' 'went last' 'went' 'vegetarian' 'time with my'\n",
      " 'time with' 'time' 'the first time' 'the first' 'the chicken' 'the'\n",
      " 'start off by' 'start off' 'start' 'saying' 'ordered the' 'ordered'\n",
      " 'off by saying' 'off by' 'off' 'not' 'night for' 'night' 'my boyfriend'\n",
      " 'my' 'mushroom' 'me start off' 'me start' 'me' 'let me start' 'let me'\n",
      " 'let' 'last night for' 'last night' 'last' 'it' 'is not' 'is'\n",
      " 'for the first' 'for the' 'for' 'first time' 'first' 'chicken'\n",
      " 'by saying vegetarian' 'by saying' 'by' 'but my boyfriend' 'but my' 'but'\n",
      " 'boyfriend is' 'boyfriend']\n",
      "  (0, 14673)\t0.127726229698\n",
      "  (0, 14644)\t0.066510233045\n",
      "  (0, 14369)\t0.19548335381\n",
      "  (0, 14349)\t0.0898400316439\n",
      "  (0, 13360)\t0.154054021343\n",
      "  (0, 12133)\t0.19548335381\n",
      "  (0, 12132)\t0.178638269705\n",
      "  (0, 12084)\t0.0813060744932\n",
      "  (0, 11287)\t0.136128656311\n",
      "  (0, 11285)\t0.1220800238\n",
      "  (0, 11211)\t0.140140477114\n",
      "  (0, 11114)\t0.0321737477342\n",
      "  (0, 10702)\t0.175775868764\n",
      "  (0, 10701)\t0.168784527182\n",
      "  (0, 10698)\t0.132231958031\n",
      "  (0, 10038)\t0.137767635851\n",
      "  (0, 8449)\t0.127726229698\n",
      "  (0, 8440)\t0.100412121617\n",
      "  (0, 8190)\t0.175775868764\n",
      "  (0, 8189)\t0.175775868764\n",
      "  (0, 8187)\t0.11032669601\n",
      "  (0, 7953)\t0.0700714525689\n",
      "  (0, 7903)\t0.173215363871\n",
      "  (0, 7894)\t0.102570926136\n",
      "  (0, 7637)\t0.145719668499\n",
      "  :\t:\n",
      "  (4590, 4806)\t0.376782118269\n",
      "  (4590, 4750)\t0.205018775775\n",
      "  (4590, 4119)\t0.462276660596\n",
      "  (4590, 4049)\t0.185698870032\n",
      "  (4590, 1521)\t0.259306386254\n",
      "  (4590, 1237)\t0.525290065717\n",
      "  (4590, 1234)\t0.308672300504\n",
      "  (4591, 11168)\t0.341593848984\n",
      "  (4591, 11114)\t0.109979570095\n",
      "  (4591, 8976)\t0.212240414049\n",
      "  (4591, 6042)\t0.500837698825\n",
      "  (4591, 6041)\t0.368815711731\n",
      "  (4591, 5739)\t0.178157825484\n",
      "  (4591, 4796)\t0.498113761203\n",
      "  (4591, 4750)\t0.247657833288\n",
      "  (4591, 1521)\t0.313235983068\n",
      "  (4592, 11168)\t0.71712372549\n",
      "  (4592, 11114)\t0.230885185049\n",
      "  (4592, 1521)\t0.657590749375\n",
      "  (4593, 14732)\t0.48497576142\n",
      "  (4593, 10630)\t0.361354848918\n",
      "  (4593, 5854)\t0.478217679364\n",
      "  (4593, 5739)\t0.198471388139\n",
      "  (4593, 4750)\t0.275895789717\n",
      "  (4593, 3475)\t0.538534730958\n",
      "hello 15000\n"
     ]
    }
   ],
   "source": [
    "array = sentiment.trainX # the vocabulary dictionary and return term-document matrix\n",
    "print(sentiment.train_data[0]) # the first entry in training data\n",
    "X = sentiment.trainX # term-document matrix; \n",
    "#print(X.toarray().shape) #X : array, [n_samples, n_features]\n",
    "print('~'*50)\n",
    "print(sentiment.tfidf_vect.inverse_transform(X)[0]) # Return terms with nonzero entries in X[0].\n",
    "X_arr = X.toarray()\n",
    "print(X)\n",
    "print(\"hello\", len(X_arr[1]))"
   ]
  },
  {
   "cell_type": "code",
   "execution_count": 4,
   "metadata": {},
   "outputs": [
    {
     "name": "stdout",
     "output_type": "stream",
     "text": [
      "it came highly\n",
      "boyfriend and\n"
     ]
    }
   ],
   "source": [
    "print((sentiment.tfidf_vect.get_feature_names()[6150])) # map id to word\n",
    "print((sentiment.tfidf_vect.get_feature_names()[1791]))\n"
   ]
  },
  {
   "cell_type": "markdown",
   "metadata": {},
   "source": [
    "# 2. Inspect the label representation"
   ]
  },
  {
   "cell_type": "code",
   "execution_count": 5,
   "metadata": {},
   "outputs": [
    {
     "name": "stdout",
     "output_type": "stream",
     "text": [
      "target labels  ['NEGATIVE' 'POSITIVE']\n",
      "target labels  [1 1 0 0 1]\n",
      "['NEGATIVE', 'POSITIVE']\n",
      "[0, 1]\n",
      "['POSITIVE', 'POSITIVE', 'NEGATIVE', 'NEGATIVE', 'POSITIVE']\n"
     ]
    }
   ],
   "source": [
    "print('target labels ', sentiment.target_labels)\n",
    "print('target labels ', sentiment.trainy[:5]) # show the labels of the first 5 training examples\n",
    "print(list(sentiment.le.classes_))\n",
    "print(list(sentiment.le.transform(['NEGATIVE', 'POSITIVE'])))\n",
    "print(list(sentiment.le.inverse_transform(list(sentiment.trainy[:5]))))\n"
   ]
  },
  {
   "cell_type": "markdown",
   "metadata": {},
   "source": [
    "# 3. Take a look at the data"
   ]
  },
  {
   "cell_type": "code",
   "execution_count": 6,
   "metadata": {},
   "outputs": [
    {
     "name": "stdout",
     "output_type": "stream",
     "text": [
      "Went last night for the first time with my boyfriend. Let me start off by saying I'm vegetarian, but my boyfriend is not. I ordered the chicken v mushroom, it\n"
     ]
    },
    {
     "data": {
      "image/png": "[encoded data removed]",
      "text/plain": [
       "<matplotlib.figure.Figure at 0x118dd5588>"
      ]
     },
     "metadata": {},
     "output_type": "display_data"
    }
   ],
   "source": [
    "print(sentiment.train_data[0])\n",
    "\n",
    "lens = []\n",
    "for review in sentiment.train_data:\n",
    "    lens.append(len(review.split()))\n",
    "plt.hist(lens, color='m')\n",
    "plt.axvline(np.mean(lens), color='c', linestyle='dashed', linewidth=2,label='mean review length: '+str(np.mean(lens)))\n",
    "plt.legend()\n",
    "plt.show()"
   ]
  },
  {
   "cell_type": "markdown",
   "metadata": {},
   "source": [
    "# 4. Train the classifier"
   ]
  },
  {
   "cell_type": "code",
   "execution_count": 33,
   "metadata": {
    "collapsed": true
   },
   "outputs": [],
   "source": [
    "cls = classify.train_classifier(sentiment.trainX, sentiment.trainy)"
   ]
  },
  {
   "cell_type": "markdown",
   "metadata": {},
   "source": [
    "# 5. What are the decisive features"
   ]
  },
  {
   "cell_type": "code",
   "execution_count": 69,
   "metadata": {},
   "outputs": [
    {
     "name": "stdout",
     "output_type": "stream",
     "text": [
      "[11168  1234  3744  1521  3221  7108   439  4750]\n",
      "--------------------------------------------------\n",
      "Top k=8\n",
      "--------------------------------------------------\n",
      "the best\n",
      "awesome\n",
      "excellent\n",
      "best\n",
      "delicious\n",
      "love\n",
      "amazing\n",
      "great\n",
      "--------------------------------------------------\n",
      "Bottom k=8\n",
      "--------------------------------------------------\n",
      "[ 7953  5353 14766  9913 11001 11704  1280 14349]\n",
      "not\n",
      "horrible\n",
      "worst\n",
      "rude\n",
      "terrible\n",
      "the worst\n",
      "bad\n",
      "went\n"
     ]
    }
   ],
   "source": [
    "coefficients=cls.coef_[0]\n",
    "k = 8\n",
    "top_k =np.argsort(coefficients)[-k:]\n",
    "print(top_k)\n",
    "top_k_words = []\n",
    "\n",
    "print('-'*50)\n",
    "print('Top k=%d' %k)\n",
    "print('-'*50)\n",
    "\n",
    "for i in top_k:\n",
    "    print(sentiment.tfidf_vect.get_feature_names()[i])\n",
    "    top_k_words.append(sentiment.tfidf_vect.get_feature_names()[i])\n",
    "#print(sentiment.count_ve\n",
    "print('-'*50)\n",
    "print('Bottom k=%d' %k)\n",
    "print('-'*50)\n",
    "#top_k = np.argpartition(coefficients, -k)[-k:]\n",
    "bottom_k =np.argsort(coefficients)[:k]\n",
    "print(bottom_k)\n",
    "bottom_k_words = []\n",
    "#print(top_k)\n",
    "for i in bottom_k:\n",
    "    print(sentiment.tfidf_vect.get_feature_names()[i])\n",
    "    bottom_k_words.append(sentiment.tfidf_vect.get_feature_names()[i])\n",
    "\n",
    "#print(sentiment.count_ve"
   ]
  },
  {
   "cell_type": "markdown",
   "metadata": {},
   "source": [
    "# 6. How is the classifier doing edge cases\n",
    "\n",
    "## 6 a) reviews that contain top-k words\n",
    " in this case we expect predictions to be mostly POSITIVE (i.e LABEL=1)\n"
   ]
  },
  {
   "cell_type": "code",
   "execution_count": 67,
   "metadata": {},
   "outputs": [
    {
     "name": "stdout",
     "output_type": "stream",
     "text": [
      "  Accuracy on these reviews  is: 0.857142857143\n"
     ]
    },
    {
     "data": {
      "image/png": "[encoded data removed]",
      "text/plain": [
       "<matplotlib.figure.Figure at 0x114901b70>"
      ]
     },
     "metadata": {},
     "output_type": "display_data"
    }
   ],
   "source": [
    "top_k_reviews = []\n",
    "top_k_labels = []\n",
    "for j in range(len(sentiment.dev_data)):\n",
    "    review = sentiment.dev_data[j]\n",
    "    for word in top_k_words:\n",
    "        if word in review:\n",
    "            top_k_reviews.append(review)\n",
    "            top_k_labels.append(sentiment.dev_labels[j])\n",
    "            break\n",
    "    \n",
    "        #print(review)\n",
    "dev_X = sentiment.tfidf_vect.transform(top_k_reviews)\n",
    "classify.evaluate(dev_X, sentiment.le.transform(top_k_labels), cls , 'these reviews')\n",
    "\n",
    "\n",
    "yp = cls.predict_proba(dev_X) \n",
    "#print(yp.shape)\n",
    "plt.plot(yp[:,0],'b.') # ['0: NEGATIVE', '1:POSITIVE'] \n",
    "plt.plot(yp[:,1],'ro') \n",
    "plt.title('Classifier Predictions on reviews with topk words (highly positive)')\n",
    "plt.ylabel('Predicted score')\n",
    "plt.xlabel('Example #')\n",
    "plt.show()"
   ]
  },
  {
   "cell_type": "markdown",
   "metadata": {},
   "source": [
    "## 6b) reviews that contain bottom-k words\n",
    " in this case we expect predictions to be mostly NEGATIVE (i.e LABEL=0)"
   ]
  },
  {
   "cell_type": "code",
   "execution_count": 68,
   "metadata": {},
   "outputs": [
    {
     "name": "stdout",
     "output_type": "stream",
     "text": [
      "  Accuracy on these reviews  is: 0.851351351351\n"
     ]
    },
    {
     "data": {
      "image/png": "[encoded data removed]",
      "text/plain": [
       "<matplotlib.figure.Figure at 0x118276dd8>"
      ]
     },
     "metadata": {},
     "output_type": "display_data"
    }
   ],
   "source": [
    "bottom_k_reviews = []\n",
    "bottom_k_labels = []\n",
    "for j in range(len(sentiment.dev_data)):\n",
    "    review = sentiment.dev_data[j]\n",
    "    for word in bottom_k_words:\n",
    "        if word in review:\n",
    "            bottom_k_reviews.append(review)\n",
    "            bottom_k_labels.append(sentiment.dev_labels[j])\n",
    "            break\n",
    "    \n",
    "        #print(review)\n",
    "dev_X = sentiment.tfidf_vect.transform(bottom_k_reviews)\n",
    "classify.evaluate(dev_X, sentiment.le.transform(bottom_k_labels), cls, 'these reviews')\n",
    "yp = cls.predict_proba(dev_X) \n",
    "#print(yp.shape)\n",
    "plt.plot(yp[:,0],'b.') # ['0: NEGATIVE', '1:POSITIVE'] \n",
    "plt.plot(yp[:,1],'ro') \n",
    "plt.show()"
   ]
  },
  {
   "cell_type": "code",
   "execution_count": 31,
   "metadata": {
    "collapsed": true
   },
   "outputs": [],
   "source": [
    "from nltk.corpus import opinion_lexicon"
   ]
  },
  {
   "cell_type": "code",
   "execution_count": 25,
   "metadata": {},
   "outputs": [
    {
     "name": "stdout",
     "output_type": "stream",
     "text": [
      "<bound method OpinionLexiconCorpusReader.words of <OpinionLexiconCorpusReader in '/Users/shivarkannan/nltk_data/corpora/opinion_lexicon'>>\n"
     ]
    }
   ],
   "source": [
    "print(opinion_lexicon.words)"
   ]
  },
  {
   "cell_type": "code",
   "execution_count": 27,
   "metadata": {
    "collapsed": true
   },
   "outputs": [],
   "source": [
    "import nltk.corpus.reader.opinion_lexicon as op"
   ]
  },
  {
   "cell_type": "code",
   "execution_count": 32,
   "metadata": {
    "collapsed": true
   },
   "outputs": [
    {
     "ename": "TypeError",
     "evalue": "__init__() missing 2 required positional arguments: 'root' and 'fileids'",
     "output_type": "error",
     "traceback": [
      "\u001b[0;31m---------------------------------------------------------------------------\u001b[0m",
      "\u001b[0;31mTypeError\u001b[0m                                 Traceback (most recent call last)",
      "\u001b[0;32m<ipython-input-32-f8c10cf2710d>\u001b[0m in \u001b[0;36m<module>\u001b[0;34m()\u001b[0m\n\u001b[0;32m----> 1\u001b[0;31m \u001b[0mobj\u001b[0m \u001b[0;34m=\u001b[0m \u001b[0mop\u001b[0m\u001b[0;34m.\u001b[0m\u001b[0mOpinionLexiconCorpusReader\u001b[0m\u001b[0;34m(\u001b[0m\u001b[0;34m)\u001b[0m\u001b[0;34m\u001b[0m\u001b[0m\n\u001b[0m",
      "\u001b[0;31mTypeError\u001b[0m: __init__() missing 2 required positional arguments: 'root' and 'fileids'"
     ]
    }
   ],
   "source": [
    "obj = op.OpinionLexiconCorpusReader()"
   ]
  },
  {
   "cell_type": "code",
   "execution_count": 34,
   "metadata": {},
   "outputs": [
    {
     "data": {
      "image/png": "[encoded data removed]",
      "text/plain": [
       "<matplotlib.figure.Figure at 0x129d42a20>"
      ]
     },
     "metadata": {},
     "output_type": "display_data"
    }
   ],
   "source": [
    "plt.plot([1,2,3],[1,2,3])\n",
    "plt.show()"
   ]
  },
  {
   "cell_type": "code",
   "execution_count": 61,
   "metadata": {},
   "outputs": [
    {
     "name": "stdout",
     "output_type": "stream",
     "text": [
      "sentiment/unlabeled.tsv\n",
      "(91524, 15000)\n",
      "4583\n",
      "(4583,)\n",
      "  Accuracy on dev  is: 0.810043668122\n",
      "4584\n",
      "(4584,)\n",
      "  Accuracy on dev  is: 0.810043668122\n",
      "4585\n",
      "(4585,)\n",
      "  Accuracy on dev  is: 0.810043668122\n",
      "4588\n",
      "(4588,)\n",
      "  Accuracy on dev  is: 0.810043668122\n",
      "4589\n",
      "(4589,)\n",
      "  Accuracy on dev  is: 0.810043668122\n",
      "4591\n",
      "(4591,)\n",
      "  Accuracy on dev  is: 0.810043668122\n",
      "4593\n",
      "(4593,)\n",
      "  Accuracy on dev  is: 0.810043668122\n",
      "4593\n",
      "(4593,)\n",
      "  Accuracy on dev  is: 0.810043668122\n",
      "4593\n",
      "(4593,)\n",
      "  Accuracy on dev  is: 0.810043668122\n",
      "4593\n",
      "(4593,)\n",
      "  Accuracy on dev  is: 0.810043668122\n",
      "4594\n",
      "(4594,)\n",
      "  Accuracy on dev  is: 0.810043668122\n",
      "4594\n",
      "(4594,)\n",
      "  Accuracy on dev  is: 0.810043668122\n"
     ]
    }
   ],
   "source": [
    "import classify\n",
    "import numpy as np\n",
    "from sklearn.utils import shuffle\n",
    "cls_2 = classify.train_classifier(sentiment.trainX,sentiment.trainy) # initial train with 0 unlabelled predicted\n",
    "factor = 8000 # roughly about 10% of the corpus\n",
    "\n",
    "#  print(type(sentiment.trainX))\n",
    "#  print(type(sentiment.trainy))\n",
    "unlabeled = sentimentinterface.read_unlabeled(tarfname, sentiment)\n",
    "unlabeled.data_temp = unlabeled.data\n",
    "\n",
    "for i in range(12):\n",
    "\n",
    "\n",
    "    end_index = min(len(unlabeled.data),(i*factor) + factor)\n",
    "    partition = unlabeled.data_temp[i*factor:end_index] # create partition of data\n",
    "    #partition_matrix = sentiment.tfidf_vect.transform(partition) # create tfidf features on corpus\n",
    "    partition_matrix = unlabeled.X[i*factor:end_index]\n",
    "    yp = cls_2.predict(partition_matrix) # predict on this partition of unseen data to create labels\n",
    "    decisions = cls_2.decision_function(partition_matrix)\n",
    "    # predict on unseen portion of data\n",
    "    #for j in range(len(decisions)):\n",
    "    #    print(decisions[j])\n",
    "    #print(decisions)\n",
    "    #print(decisions)\n",
    "    # append this data to the train to create new train with labels\n",
    "    for j in range(len(partition)):\n",
    "        # check the confidence on each prediction before appending\n",
    "        if(abs(decisions[j]) > 3.5):\n",
    "            #print(\"HI\")\n",
    "        # print(partition[j])\n",
    "        # print(yp[j])\n",
    "            sentiment.train_data.append(partition[j])\n",
    "\n",
    "            sentiment.trainy = np.append(sentiment.trainy,yp[j])\n",
    "    print(len(sentiment.train_data))\n",
    "    print(sentiment.trainy.shape)\n",
    "    sentiment.trainX = sentiment.tfidf_vect.transform(sentiment.train_data) # transform new training data with partition addition\n",
    "    cls_2 = classify.train_classifier(sentiment.trainX,sentiment.trainy) # train a new classifier\n",
    "    classify.evaluate(sentiment.devX, sentiment.devy, cls_2, 'dev') # evaluate on dev portion\n"
   ]
  },
  {
   "cell_type": "code",
   "execution_count": 70,
   "metadata": {
    "collapsed": true
   },
   "outputs": [],
   "source": [
    "supervised_predictions = cls.predict(unlabeled.X)\n",
    "semi_supervised_predictions = cls_2.predict(unlabeled.X)"
   ]
  },
  {
   "cell_type": "code",
   "execution_count": 71,
   "metadata": {
    "collapsed": true
   },
   "outputs": [],
   "source": [
    "for i in range(len(supervised_predictions)):\n",
    "    if(supervised_predictions[i] != semi_supervised_predictions[i]):\n",
    "        print(\"supervised prediction: \", supervised_predictions[i])\n",
    "        print(\"semi-supervised prediction: \", semi_supervised_predictions[i])\n",
    "        print(\"data: \", unlabeled.data[i])"
   ]
  },
  {
   "cell_type": "code",
   "execution_count": 72,
   "metadata": {},
   "outputs": [
    {
     "name": "stdout",
     "output_type": "stream",
     "text": [
      "LogisticRegression(C=1.0, class_weight=None, dual=False, fit_intercept=True,\n",
      "          intercept_scaling=1, max_iter=10000, multi_class='ovr', n_jobs=1,\n",
      "          penalty='l2', random_state=0, solver='lbfgs', tol=0.0001,\n",
      "          verbose=0, warm_start=False)\n",
      "LogisticRegression(C=1.0, class_weight=None, dual=False, fit_intercept=True,\n",
      "          intercept_scaling=1, max_iter=10000, multi_class='ovr', n_jobs=1,\n",
      "          penalty='l2', random_state=0, solver='lbfgs', tol=0.0001,\n",
      "          verbose=0, warm_start=False)\n"
     ]
    }
   ],
   "source": []
  },
  {
   "cell_type": "code",
   "execution_count": 1,
   "metadata": {},
   "outputs": [
    {
     "ename": "NameError",
     "evalue": "name 'cls' is not defined",
     "output_type": "error",
     "traceback": [
      "\u001b[0;31m---------------------------------------------------------------------------\u001b[0m",
      "\u001b[0;31mNameError\u001b[0m                                 Traceback (most recent call last)",
      "\u001b[0;32m<ipython-input-1-7078a9390ae7>\u001b[0m in \u001b[0;36m<module>\u001b[0;34m()\u001b[0m\n\u001b[0;32m----> 1\u001b[0;31m \u001b[0mcoefficients\u001b[0m\u001b[0;34m=\u001b[0m\u001b[0mcls\u001b[0m\u001b[0;34m.\u001b[0m\u001b[0mcoef_\u001b[0m\u001b[0;34m[\u001b[0m\u001b[0;36m0\u001b[0m\u001b[0;34m]\u001b[0m\u001b[0;34m\u001b[0m\u001b[0m\n\u001b[0m\u001b[1;32m      2\u001b[0m \u001b[0mk\u001b[0m \u001b[0;34m=\u001b[0m \u001b[0;36m8\u001b[0m\u001b[0;34m\u001b[0m\u001b[0m\n\u001b[1;32m      3\u001b[0m \u001b[0mtop_k\u001b[0m \u001b[0;34m=\u001b[0m\u001b[0mnp\u001b[0m\u001b[0;34m.\u001b[0m\u001b[0margsort\u001b[0m\u001b[0;34m(\u001b[0m\u001b[0mcoefficients\u001b[0m\u001b[0;34m)\u001b[0m\u001b[0;34m[\u001b[0m\u001b[0;34m-\u001b[0m\u001b[0mk\u001b[0m\u001b[0;34m:\u001b[0m\u001b[0;34m]\u001b[0m\u001b[0;34m\u001b[0m\u001b[0m\n\u001b[1;32m      4\u001b[0m \u001b[0mprint\u001b[0m\u001b[0;34m(\u001b[0m\u001b[0mtop_k\u001b[0m\u001b[0;34m)\u001b[0m\u001b[0;34m\u001b[0m\u001b[0m\n\u001b[1;32m      5\u001b[0m \u001b[0mtop_k_words\u001b[0m \u001b[0;34m=\u001b[0m \u001b[0;34m[\u001b[0m\u001b[0;34m]\u001b[0m\u001b[0;34m\u001b[0m\u001b[0m\n",
      "\u001b[0;31mNameError\u001b[0m: name 'cls' is not defined"
     ]
    }
   ],
   "source": [
    "    coefficients=cls.coef_[0]\n",
    "    k = 8\n",
    "    top_k =np.argsort(coefficients)[-k:]\n",
    "    print(top_k)\n",
    "    top_k_words = []\n",
    "\n",
    "    print('-'*50)\n",
    "    print('Top k=%d' %k)\n",
    "    print('-'*50)\n",
    "\n",
    "    for i in top_k:\n",
    "        print(sentiment.tfidf_vect.get_feature_names()[i])\n",
    "        top_k_words.append(sentiment.tfidf_vect.get_feature_names()[i])\n",
    "    #print(sentiment.count_ve\n",
    "    print('-'*50)\n",
    "    print('Bottom k=%d' %k)\n",
    "    print('-'*50)\n",
    "    #top_k = np.argpartition(coefficients, -k)[-k:]\n",
    "    bottom_k =np.argsort(coefficients)[:k]\n",
    "    print(bottom_k)\n",
    "    bottom_k_words = []\n",
    "    #print(top_k)\n",
    "    for i in bottom_k:\n",
    "        print(sentiment.tfidf_vect.get_feature_names()[i])\n",
    "        bottom_k_words.append(sentiment.tfidf_vect.get_feature_names()[i])\n",
    "    \n",
    "    top_k_reviews = []\n",
    "    top_k_labels = []\n",
    "    for j in range(len(sentiment.dev_data)):\n",
    "        review = sentiment.dev_data[j]\n",
    "        for word in top_k_words:\n",
    "            if word in review:\n",
    "                top_k_reviews.append(review)\n",
    "                top_k_labels.append(sentiment.dev_labels[j])\n",
    "                break\n",
    "        \n",
    "            #print(review)\n",
    "    dev_X = sentiment.tfidf_vect.transform(top_k_reviews)\n",
    "    classify.evaluate(dev_X, sentiment.le.transform(top_k_labels), cls , 'these reviews')\n",
    "\n",
    "\n",
    "    yp = cls.predict_proba(dev_X) \n",
    "    #print(yp.shape)\n",
    "    plt.plot(yp[:,0],'b.') # ['0: NEGATIVE', '1:POSITIVE'] \n",
    "    plt.plot(yp[:,1],'ro') \n",
    "    plt.title('Classifier Predictions on reviews with topk words (highly positive)')\n",
    "    plt.ylabel('Predicted score')\n",
    "    plt.xlabel('Example #')\n",
    "    plt.show()\n",
    "    end_preds = cls.predict(unlabeled.X)\n",
    "    for i in range(len(initial_preds)):\n",
    "        if(initial_preds[i] != end_preds[i]):\n",
    "            print(\"supervised prediction:\", initial_preds[i])\n",
    "            print(\"semi-supervised predicition:\", end_preds[i])\n",
    "            print(\"data:\", unlabeled.data[i])"
   ]
  },
  {
   "cell_type": "code",
   "execution_count": 27,
   "metadata": {},
   "outputs": [
    {
     "name": "stdout",
     "output_type": "stream",
     "text": [
      "<_csv.reader object at 0x1082b8898>\n",
      "Column names are _unit_id, _golden, _unit_state, _trusted_judgments, _last_judgment_at, gender, gender:confidence, profile_yn, profile_yn:confidence, created, description, fav_number, gender_gold, link_color, name, profile_yn_gold, profileimage, retweet_count, sidebar_color, text, tweet_coord, tweet_count, tweet_created, tweet_id, tweet_location, user_timezone\n",
      "Processed 20051 lines.\n",
      "20051\n",
      "0\n"
     ]
    }
   ],
   "source": [
    "import csv\n",
    "array_of_points = []\n",
    "with open('gender-classifier-DFE-791531.csv',encoding=\"utf-8\",errors=\"ignore\") as csv_file:\n",
    "    csv_reader = csv.reader(csv_file, delimiter=',')\n",
    "    print(csv_reader)\n",
    "    line_count = 0\n",
    "    num_use = 0\n",
    "    for row in csv_reader:\n",
    "        if line_count == 0:\n",
    "            print(f'Column names are {\", \".join(row)}')\n",
    "            line_count += 1\n",
    "        else:\n",
    "            #print(row[5])\n",
    "            if(row[5] == 'female' or row[5] == 'male'):\n",
    "                if(row[5] == 'female'):\n",
    "                    string = [\"POSITIVE\",row[19]]\n",
    "                else:\n",
    "                    string = [\"NEGATIVE\",row[19]]\n",
    "                array_of_points.append(string)\n",
    "            #print(row[19])\n",
    "            line_count += 1\n",
    "    print(f'Processed {line_count} lines.')\n",
    "    print(line_count)\n",
    "    print(num_use)"
   ]
  },
  {
   "cell_type": "code",
   "execution_count": 42,
   "metadata": {},
   "outputs": [],
   "source": [
    "with open('train.tsv', 'w') as train_file:\n",
    "    with open('dev.tsv', 'w') as dev_file:\n",
    "        with open('unlabeled.tsv', 'w') as test_file:\n",
    "            for i in range(len(array_of_points)):\n",
    "                label = array_of_points[i][0]\n",
    "                text = array_of_points[i][1]\n",
    "                text = text.replace(\"\\n\",\"\")\n",
    "                if(i < 6000):\n",
    "                    string = label + \"\\t\" + text\n",
    "                    train_file.write(string)\n",
    "                    train_file.write(\"\\n\")\n",
    "                elif(i >= 6000 and i < 10000):\n",
    "                    string = label + \"\\t\" + text\n",
    "                    dev_file.write(string)\n",
    "                    dev_file.write(\"\\n\")\n",
    "                else:\n",
    "                    string = text\n",
    "                    test_file.write(string)\n",
    "                    test_file.write(\"\\n\")\n",
    "            "
   ]
  },
  {
   "cell_type": "code",
   "execution_count": 32,
   "metadata": {},
   "outputs": [
    {
     "name": "stdout",
     "output_type": "stream",
     "text": [
      "hello\tworld\n"
     ]
    }
   ],
   "source": [
    "string = \"hello\" +\"\\t\" +\"world\"\n",
    "print(string)"
   ]
  },
  {
   "cell_type": "code",
   "execution_count": null,
   "metadata": {
    "collapsed": true
   },
   "outputs": [],
   "source": []
  }
 ],
 "metadata": {
  "kernelspec": {
   "display_name": "Python 3",
   "language": "python",
   "name": "python3"
  },
  "language_info": {
   "codemirror_mode": {
    "name": "ipython",
    "version": 3
   },
   "file_extension": ".py",
   "mimetype": "text/x-python",
   "name": "python",
   "nbconvert_exporter": "python",
   "pygments_lexer": "ipython3",
   "version": "3.6.2"
  }
 },
 "nbformat": 4,
 "nbformat_minor": 2
}
